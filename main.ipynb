{
 "cells": [
  {
   "cell_type": "code",
   "execution_count": 4,
   "metadata": {},
   "outputs": [],
   "source": [
    "import numpy as np"
   ]
  },
  {
   "cell_type": "code",
   "execution_count": 5,
   "metadata": {},
   "outputs": [],
   "source": [
    "array_mxn = np.array([\n",
    "    [1,1,1,0,1,1,1],\n",
    "    [1,0,1,1,1,1,0],\n",
    "    [1,0,0,1,1,1,1],\n",
    "    [1,1,1,1,0,2,1],\n",
    "    [1,0,0,1,1,0,1],\n",
    "    [1,1,0,1,1,1,1],\n",
    "    [0,1,1,1,1,1,0]\n",
    "])"
   ]
  }
 ],
 "metadata": {
  "kernelspec": {
   "display_name": "Python 3",
   "language": "python",
   "name": "python3"
  },
  "language_info": {
   "codemirror_mode": {
    "name": "ipython",
    "version": 3
   },
   "file_extension": ".py",
   "mimetype": "text/x-python",
   "name": "python",
   "nbconvert_exporter": "python",
   "pygments_lexer": "ipython3",
   "version": "3.12.1"
  }
 },
 "nbformat": 4,
 "nbformat_minor": 2
}
