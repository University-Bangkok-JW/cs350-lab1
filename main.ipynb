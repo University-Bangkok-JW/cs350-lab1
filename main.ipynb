{
 "cells": [
  {
   "cell_type": "code",
   "execution_count": 1,
   "metadata": {},
   "outputs": [],
   "source": [
    "import numpy as np"
   ]
  },
  {
   "cell_type": "code",
   "execution_count": 2,
   "metadata": {},
   "outputs": [],
   "source": [
    "array_mxn = np.array([\n",
    "    [1,1,1,0,1,1,1],\n",
    "    [1,0,1,1,1,1,0],\n",
    "    [1,0,0,1,1,1,1],\n",
    "    [1,1,1,1,0,2,1],\n",
    "    [1,0,0,1,1,0,1],\n",
    "    [1,1,0,1,1,1,1],\n",
    "    [0,1,1,1,1,1,0]\n",
    "])"
   ]
  },
  {
   "cell_type": "code",
   "execution_count": 3,
   "metadata": {},
   "outputs": [],
   "source": [
    "m, n = 7, 7"
   ]
  },
  {
   "cell_type": "code",
   "execution_count": 4,
   "metadata": {},
   "outputs": [],
   "source": [
    "# Recursive function to explore all paths\n",
    "def find_min_steps(grid, x, y, target_x, target_y, visited, steps):\n",
    "    # Base case: if out of bounds or hits a wall or already visited\n",
    "    if x < 0 or x >= m or y < 0 or y >= n or grid[x][y] == 0 or visited[x][y]:\n",
    "        return float('inf')  # Return a large number to denote an invalid path\n",
    "\n",
    "    # If we reached the target\n",
    "    if grid[x][y] == 2:\n",
    "        return steps\n",
    "    \n",
    "    # Mark the current cell as visited\n",
    "    visited[x][y] = True\n",
    "\n",
    "    # Explore all possible directions\n",
    "    up = find_min_steps(grid, x - 1, y, target_x, target_y, visited, steps + 1)\n",
    "    down = find_min_steps(grid, x + 1, y, target_x, target_y, visited, steps + 1)\n",
    "    left = find_min_steps(grid, x, y - 1, target_x, target_y, visited, steps + 1)\n",
    "    right = find_min_steps(grid, x, y + 1, target_x, target_y, visited, steps + 1)\n",
    "    \n",
    "    # Unmark the current cell (backtracking)\n",
    "    visited[x][y] = False\n",
    "\n",
    "    # Return the minimum steps from all directions\n",
    "    return min(up, down, left, right)"
   ]
  },
  {
   "cell_type": "code",
   "execution_count": 5,
   "metadata": {},
   "outputs": [],
   "source": [
    "def min_steps_to_target(grid, start_x, start_y, target_x, target_y):\n",
    "    visited = np.zeros((m, n), dtype=bool)  # Keep track of visited cells\n",
    "    steps = find_min_steps(grid, start_x, start_y, target_x, target_y, visited, 0)\n",
    "    \n",
    "    if steps == float('inf'):\n",
    "        return -1  # No path found\n",
    "    else:\n",
    "        return steps"
   ]
  },
  {
   "cell_type": "code",
   "execution_count": 6,
   "metadata": {},
   "outputs": [],
   "source": [
    "# Starting position of the panda\n",
    "start_x, start_y = 0, 0\n",
    "# Target position\n",
    "target_x, target_y = 3, 5"
   ]
  },
  {
   "cell_type": "code",
   "execution_count": null,
   "metadata": {},
   "outputs": [],
   "source": [
    "# Call the function\n",
    "result = min_steps_to_target(array_mxn, start_x, start_y, target_x, target_y)\n",
    "print(\"Minimum steps:\", result)"
   ]
  }
 ],
 "metadata": {
  "kernelspec": {
   "display_name": "Python 3",
   "language": "python",
   "name": "python3"
  },
  "language_info": {
   "codemirror_mode": {
    "name": "ipython",
    "version": 3
   },
   "file_extension": ".py",
   "mimetype": "text/x-python",
   "name": "python",
   "nbconvert_exporter": "python",
   "pygments_lexer": "ipython3",
   "version": "3.12.1"
  }
 },
 "nbformat": 4,
 "nbformat_minor": 2
}
